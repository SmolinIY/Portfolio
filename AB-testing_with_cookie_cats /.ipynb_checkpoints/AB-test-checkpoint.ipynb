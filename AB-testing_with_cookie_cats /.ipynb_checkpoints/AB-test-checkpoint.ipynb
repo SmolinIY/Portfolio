{
 "cells": [
  {
   "cell_type": "markdown",
   "id": "6d8d8740",
   "metadata": {},
   "source": [
    "# Описание проекта"
   ]
  },
  {
   "cell_type": "markdown",
   "id": "98a685e3",
   "metadata": {},
   "source": [
    "В этом проекте мы проанализируем результаты АБ-теста мобильной игры \"Cookie Cats\" на основе набора данных с сайта: https://learn.datacamp.com/projects/184"
   ]
  },
  {
   "cell_type": "markdown",
   "id": "2cd34567",
   "metadata": {},
   "source": [
    "# Cookie Cats"
   ]
  },
  {
   "cell_type": "markdown",
   "id": "86658157",
   "metadata": {},
   "source": [
    "\"Cookie Cats\" — популярная мобильная игра-головоломка, разработанная компанией <a href=\"http://tactile.dk\">Tactile Entertainment</a>. Это классический match-three пазл, в котором игрок должен соединять элементы одного цвета, чтобы очистить игровое поле и пройти уровень.\n",
    "<div>\n",
    "<img src=\"https://lh3.googleusercontent.com/Vxz_-XK6rgXKqToYAiDsiUGiJ4URaFgANKRiStGte8Y0nqvL4K6n1Sq0oM0UCKeeEBmd=h500\" width=\"500\"/>\n",
    "</div>"
   ]
  },
  {
   "cell_type": "markdown",
   "id": "3392f5fe",
   "metadata": {},
   "source": [
    "По мере прохождения уровней игры игроки сталкиваются с воротами, которые заставляют их сделать перерыв на определенное время или совершить внутриигровую покупку, чтобы продолжить играть. Помимо стимулирования покупок в приложении эти ворота вынуждают игроков делать перерыв, что в перспективе должно увеличить и продлить удовольствие от игры. \n",
    "<p><img src=\"https://s3.amazonaws.com/assets.datacamp.com/production/project_184/img/cc_gates.png\" alt=\"\"></p>"
   ]
  },
  {
   "cell_type": "markdown",
   "id": "7e80f535",
   "metadata": {},
   "source": [
    "В этом проекте мы проанализируем результат АБ-теста, где первые ворота в \"Cookie Cats\" были перенесены с 30-го на 40-й уровень. В частности, мы проанализируем влияние этого изменения на показатель удержания игроков (retention). Данный показатель расчитывается как отношение числа уникальных игроков, зашедших в игру на 1-й, 2-й, ... N-й день после установки ко всем игрокам, установившим приложение в этот день."
   ]
  },
  {
   "cell_type": "markdown",
   "id": "1953f182",
   "metadata": {},
   "source": [
    "### План эксперимента:\n",
    "* **Группа А**: Первые ворота расположены на уровне 30\n",
    "* **Группа Б**: Первые ворота расположены на уровне 40\n",
    "\n",
    "* **Цель**: Выяснить, как влияет новое расположение ворот на показатели удержания пользователей 1-го и 7-го дня\n",
    "* **Уровень доверия**: 95%"
   ]
  },
  {
   "cell_type": "markdown",
   "id": "ddb6a25a",
   "metadata": {},
   "source": [
    "Для начала давайте посмотрим на наши данные."
   ]
  },
  {
   "cell_type": "markdown",
   "id": "bd4ec9bb",
   "metadata": {},
   "source": [
    "# Данные"
   ]
  },
  {
   "cell_type": "code",
   "execution_count": 15,
   "id": "cecf65f2",
   "metadata": {},
   "outputs": [],
   "source": [
    "# Подгружаем необходимые библиотеки\n",
    "import pandas as pd\n",
    "import numpy as np\n",
    "from scipy import stats\n",
    "import seaborn as sns\n",
    "import matplotlib.pyplot as plt\n",
    "plt.style.use('ggplot')\n",
    "%matplotlib inline"
   ]
  },
  {
   "cell_type": "code",
   "execution_count": 16,
   "id": "9a90c67a",
   "metadata": {},
   "outputs": [],
   "source": [
    "import plotly.express as px"
   ]
  },
  {
   "cell_type": "code",
   "execution_count": 17,
   "id": "037311aa",
   "metadata": {},
   "outputs": [
    {
     "name": "stdout",
     "output_type": "stream",
     "text": [
      "(90189, 5)\n"
     ]
    },
    {
     "data": {
      "text/html": [
       "<div>\n",
       "<style scoped>\n",
       "    .dataframe tbody tr th:only-of-type {\n",
       "        vertical-align: middle;\n",
       "    }\n",
       "\n",
       "    .dataframe tbody tr th {\n",
       "        vertical-align: top;\n",
       "    }\n",
       "\n",
       "    .dataframe thead th {\n",
       "        text-align: right;\n",
       "    }\n",
       "</style>\n",
       "<table border=\"1\" class=\"dataframe\">\n",
       "  <thead>\n",
       "    <tr style=\"text-align: right;\">\n",
       "      <th></th>\n",
       "      <th>userid</th>\n",
       "      <th>version</th>\n",
       "      <th>sum_gamerounds</th>\n",
       "      <th>retention_1</th>\n",
       "      <th>retention_7</th>\n",
       "    </tr>\n",
       "  </thead>\n",
       "  <tbody>\n",
       "    <tr>\n",
       "      <th>0</th>\n",
       "      <td>116</td>\n",
       "      <td>gate_30</td>\n",
       "      <td>3</td>\n",
       "      <td>False</td>\n",
       "      <td>False</td>\n",
       "    </tr>\n",
       "    <tr>\n",
       "      <th>1</th>\n",
       "      <td>337</td>\n",
       "      <td>gate_30</td>\n",
       "      <td>38</td>\n",
       "      <td>True</td>\n",
       "      <td>False</td>\n",
       "    </tr>\n",
       "    <tr>\n",
       "      <th>2</th>\n",
       "      <td>377</td>\n",
       "      <td>gate_40</td>\n",
       "      <td>165</td>\n",
       "      <td>True</td>\n",
       "      <td>False</td>\n",
       "    </tr>\n",
       "    <tr>\n",
       "      <th>3</th>\n",
       "      <td>483</td>\n",
       "      <td>gate_40</td>\n",
       "      <td>1</td>\n",
       "      <td>False</td>\n",
       "      <td>False</td>\n",
       "    </tr>\n",
       "    <tr>\n",
       "      <th>4</th>\n",
       "      <td>488</td>\n",
       "      <td>gate_40</td>\n",
       "      <td>179</td>\n",
       "      <td>True</td>\n",
       "      <td>True</td>\n",
       "    </tr>\n",
       "  </tbody>\n",
       "</table>\n",
       "</div>"
      ],
      "text/plain": [
       "   userid  version  sum_gamerounds  retention_1  retention_7\n",
       "0     116  gate_30               3        False        False\n",
       "1     337  gate_30              38         True        False\n",
       "2     377  gate_40             165         True        False\n",
       "3     483  gate_40               1        False        False\n",
       "4     488  gate_40             179         True         True"
      ]
     },
     "execution_count": 17,
     "metadata": {},
     "output_type": "execute_result"
    }
   ],
   "source": [
    "df = pd.read_csv('/Users/ivan/first/AB-testing_with_cookie_cats /data/cookie_cats.csv')\n",
    "print(df.shape)\n",
    "df.head()"
   ]
  },
  {
   "cell_type": "markdown",
   "id": "26427f1d",
   "metadata": {},
   "source": [
    "Проверим, есть ли пропуски и дубликаты в данных?"
   ]
  },
  {
   "cell_type": "code",
   "execution_count": 18,
   "id": "cc3b377c",
   "metadata": {},
   "outputs": [
    {
     "data": {
      "text/plain": [
       "0"
      ]
     },
     "execution_count": 18,
     "metadata": {},
     "output_type": "execute_result"
    }
   ],
   "source": [
    "df.duplicated().sum()"
   ]
  },
  {
   "cell_type": "code",
   "execution_count": 19,
   "id": "f9cb737b",
   "metadata": {},
   "outputs": [
    {
     "data": {
      "text/plain": [
       "userid            0\n",
       "version           0\n",
       "sum_gamerounds    0\n",
       "retention_1       0\n",
       "retention_7       0\n",
       "dtype: int64"
      ]
     },
     "execution_count": 19,
     "metadata": {},
     "output_type": "execute_result"
    }
   ],
   "source": [
    "df.isnull().sum()"
   ]
  },
  {
   "cell_type": "markdown",
   "id": "de755d1c",
   "metadata": {},
   "source": [
    "Пропусков и дубликатов нет."
   ]
  },
  {
   "cell_type": "markdown",
   "id": "b70e702f",
   "metadata": {},
   "source": [
    "### У нас есть данные о 90 189 игроках, которые установили игру во время проведения AБ-теста.\n",
    "### __Описание колонок:__\n",
    "\n",
    "- `userid` - уникальный номер, идентифицирующий каждого игрока\n",
    "- `version` - попал ли игрок в контрольную группу (`gate_30` - ворота на 30-м уровне) или в тестовую (`gate_40` - ворота на 40-м уровне)\n",
    "- `sum_gamerounds` - количество игровых раундов, сыгранных игроком в течение первых 14 дней после установки игры\n",
    "- `retention_1` - вернулся ли игрок после __первого__ дня с момента установки?\n",
    "- `retention_7` - вернулся ли игрок после __седьмого__ дня с момента установки?\n",
    "\n",
    "Когда игрок устанавливает игру, он/она случайным образом относятся либо к группе `gate_30`, либо `gate_40`. Проверим, действительно ли их примерно поровну в каждой из групп."
   ]
  },
  {
   "cell_type": "code",
   "execution_count": 20,
   "id": "b2d40636",
   "metadata": {},
   "outputs": [
    {
     "data": {
      "text/html": [
       "<div>\n",
       "<style scoped>\n",
       "    .dataframe tbody tr th:only-of-type {\n",
       "        vertical-align: middle;\n",
       "    }\n",
       "\n",
       "    .dataframe tbody tr th {\n",
       "        vertical-align: top;\n",
       "    }\n",
       "\n",
       "    .dataframe thead th {\n",
       "        text-align: right;\n",
       "    }\n",
       "</style>\n",
       "<table border=\"1\" class=\"dataframe\">\n",
       "  <thead>\n",
       "    <tr style=\"text-align: right;\">\n",
       "      <th></th>\n",
       "      <th>version</th>\n",
       "      <th>version_count</th>\n",
       "    </tr>\n",
       "  </thead>\n",
       "  <tbody>\n",
       "    <tr>\n",
       "      <th>0</th>\n",
       "      <td>gate_30</td>\n",
       "      <td>44700</td>\n",
       "    </tr>\n",
       "    <tr>\n",
       "      <th>1</th>\n",
       "      <td>gate_40</td>\n",
       "      <td>45489</td>\n",
       "    </tr>\n",
       "  </tbody>\n",
       "</table>\n",
       "</div>"
      ],
      "text/plain": [
       "   version  version_count\n",
       "0  gate_30          44700\n",
       "1  gate_40          45489"
      ]
     },
     "execution_count": 20,
     "metadata": {},
     "output_type": "execute_result"
    }
   ],
   "source": [
    "# Подсчет количества игроков в каждой группе\n",
    "df.groupby(\"version\").agg(**{\"version_count\": (\"userid\", \"nunique\")}).reset_index()"
   ]
  },
  {
   "cell_type": "markdown",
   "id": "4b615e92",
   "metadata": {},
   "source": [
    "Группы имеют примерно одинаковый размер."
   ]
  },
  {
   "cell_type": "markdown",
   "id": "f2a4625c",
   "metadata": {},
   "source": [
    "# 2. Распределение числа игровых раундов\n",
    "Построим график распределения числа раундов, сыграных игроками за первые две недели."
   ]
  },
  {
   "cell_type": "code",
   "execution_count": 21,
   "id": "5275cf26",
   "metadata": {},
   "outputs": [
    {
     "data": {
      "image/png": "[encoded data removed]",
      "text/plain": [
       "<Figure size 720x360 with 1 Axes>"
      ]
     },
     "metadata": {
      "needs_background": "light"
     },
     "output_type": "display_data"
    }
   ],
   "source": [
    "# Подсчет количества игроков для каждого раунда в игре\n",
    "plot_df = df.groupby('sum_gamerounds')['userid'].count()\n",
    "# Построение графика распределения игроков, сыгравших от 0 до 100 раундов\n",
    "plt.figure(figsize = (10, 5))\n",
    "ax = plot_df.head(100).plot(color='blue')\n",
    "ax.set_xlabel(\"Число сыгранных раундов\")\n",
    "ax.set_ylabel(\"Число игроков\");"
   ]
  },
  {
   "cell_type": "markdown",
   "id": "5b61a3c9",
   "metadata": {},
   "source": [
    "На графике выше мы видим, что около 4000 пользователей, установивших игру, не сыграли ни одного раунда. Многие игроки сыграли лишь пару раундов, а некоторые настолько увлеклись, что прошли более 80 раундов.\n",
    "\n",
    "Разработчики игр заинтересованы в том, чтобы пользователь был вовлечен в игру и возвращался в неё снова и снова. Общей метрикой вовлеченности пользователей, используемой в игровой индустрии, является показатель удержания (retention).\n",
    "\n",
    "Чтобы детальнее посмотреть на этот показатель в двух группах, построим воронку действий пользователей после загрузки приложения."
   ]
  },
  {
   "cell_type": "code",
   "execution_count": 22,
   "id": "3f4b1565",
   "metadata": {},
   "outputs": [
    {
     "data": {
      "application/vnd.plotly.v1+json": {
       "config": {
        "plotlyServerURL": "https://plot.ly"
       },
       "data": [
        {
         "hovertemplate": "группа=gate_30<br>number=%{x}<br>stage=%{y}<br>percentage=%{text}<extra></extra>",
         "legendgroup": "gate_30",
         "marker": {
          "color": "#636efa"
         },
         "name": "gate_30",
         "orientation": "h",
         "showlegend": true,
         "text": [
          "49.563% пользователей<br>100.0% группы",
          "47.415% пользователей<br>95.667% группы",
          "22.213% пользователей<br>44.819% группы",
          "9.427% пользователей<br>19.02% группы"
         ],
         "type": "funnel",
         "x": [
          44700,
          42763,
          20034,
          8502
         ],
         "xaxis": "x",
         "y": [
          "Загрузили",
          "Сыграли первый раунд",
          "Удержание 1-го дня",
          "Удержание 7-го дня"
         ],
         "yaxis": "y"
        },
        {
         "hovertemplate": "группа=gate_40<br>number=%{x}<br>stage=%{y}<br>percentage=%{text}<extra></extra>",
         "legendgroup": "gate_40",
         "marker": {
          "color": "#EF553B"
         },
         "name": "gate_40",
         "orientation": "h",
         "showlegend": true,
         "text": [
          "50.437% пользователей<br>100.0% группы",
          "48.157% пользователей<br>95.478% группы",
          "22.308% пользователей<br>44.228% группы",
          "9.18% пользователей<br>18.2% группы"
         ],
         "type": "funnel",
         "x": [
          45489,
          43432,
          20119,
          8279
         ],
         "xaxis": "x",
         "y": [
          "Загрузили",
          "Сыграли первый раунд",
          "Удержание 1-го дня",
          "Удержание 7-го дня"
         ],
         "yaxis": "y"
        }
       ],
       "layout": {
        "legend": {
         "title": {
          "text": "группа"
         },
         "tracegroupgap": 0
        },
        "template": {
         "data": {
          "bar": [
           {
            "error_x": {
             "color": "#2a3f5f"
            },
            "error_y": {
             "color": "#2a3f5f"
            },
            "marker": {
             "line": {
              "color": "#E5ECF6",
              "width": 0.5
             },
             "pattern": {
              "fillmode": "overlay",
              "size": 10,
              "solidity": 0.2
             }
            },
            "type": "bar"
           }
          ],
          "barpolar": [
           {
            "marker": {
             "line": {
              "color": "#E5ECF6",
              "width": 0.5
             },
             "pattern": {
              "fillmode": "overlay",
              "size": 10,
              "solidity": 0.2
             }
            },
            "type": "barpolar"
           }
          ],
          "carpet": [
           {
            "aaxis": {
             "endlinecolor": "#2a3f5f",
             "gridcolor": "white",
             "linecolor": "white",
             "minorgridcolor": "white",
             "startlinecolor": "#2a3f5f"
            },
            "baxis": {
             "endlinecolor": "#2a3f5f",
             "gridcolor": "white",
             "linecolor": "white",
             "minorgridcolor": "white",
             "startlinecolor": "#2a3f5f"
            },
            "type": "carpet"
           }
          ],
          "choropleth": [
           {
            "colorbar": {
             "outlinewidth": 0,
             "ticks": ""
            },
            "type": "choropleth"
           }
          ],
          "contour": [
           {
            "colorbar": {
             "outlinewidth": 0,
             "ticks": ""
            },
            "colorscale": [
             [
              0,
              "#0d0887"
             ],
             [
              0.1111111111111111,
              "#46039f"
             ],
             [
              0.2222222222222222,
              "#7201a8"
             ],
             [
              0.3333333333333333,
              "#9c179e"
             ],
             [
              0.4444444444444444,
              "#bd3786"
             ],
             [
              0.5555555555555556,
              "#d8576b"
             ],
             [
              0.6666666666666666,
              "#ed7953"
             ],
             [
              0.7777777777777778,
              "#fb9f3a"
             ],
             [
              0.8888888888888888,
              "#fdca26"
             ],
             [
              1,
              "#f0f921"
             ]
            ],
            "type": "contour"
           }
          ],
          "contourcarpet": [
           {
            "colorbar": {
             "outlinewidth": 0,
             "ticks": ""
            },
            "type": "contourcarpet"
           }
          ],
          "heatmap": [
           {
            "colorbar": {
             "outlinewidth": 0,
             "ticks": ""
            },
            "colorscale": [
             [
              0,
              "#0d0887"
             ],
             [
              0.1111111111111111,
              "#46039f"
             ],
             [
              0.2222222222222222,
              "#7201a8"
             ],
             [
              0.3333333333333333,
              "#9c179e"
             ],
             [
              0.4444444444444444,
              "#bd3786"
             ],
             [
              0.5555555555555556,
              "#d8576b"
             ],
             [
              0.6666666666666666,
              "#ed7953"
             ],
             [
              0.7777777777777778,
              "#fb9f3a"
             ],
             [
              0.8888888888888888,
              "#fdca26"
             ],
             [
              1,
              "#f0f921"
             ]
            ],
            "type": "heatmap"
           }
          ],
          "heatmapgl": [
           {
            "colorbar": {
             "outlinewidth": 0,
             "ticks": ""
            },
            "colorscale": [
             [
              0,
              "#0d0887"
             ],
             [
              0.1111111111111111,
              "#46039f"
             ],
             [
              0.2222222222222222,
              "#7201a8"
             ],
             [
              0.3333333333333333,
              "#9c179e"
             ],
             [
              0.4444444444444444,
              "#bd3786"
             ],
             [
              0.5555555555555556,
              "#d8576b"
             ],
             [
              0.6666666666666666,
              "#ed7953"
             ],
             [
              0.7777777777777778,
              "#fb9f3a"
             ],
             [
              0.8888888888888888,
              "#fdca26"
             ],
             [
              1,
              "#f0f921"
             ]
            ],
            "type": "heatmapgl"
           }
          ],
          "histogram": [
           {
            "marker": {
             "pattern": {
              "fillmode": "overlay",
              "size": 10,
              "solidity": 0.2
             }
            },
            "type": "histogram"
           }
          ],
          "histogram2d": [
           {
            "colorbar": {
             "outlinewidth": 0,
             "ticks": ""
            },
            "colorscale": [
             [
              0,
              "#0d0887"
             ],
             [
              0.1111111111111111,
              "#46039f"
             ],
             [
              0.2222222222222222,
              "#7201a8"
             ],
             [
              0.3333333333333333,
              "#9c179e"
             ],
             [
              0.4444444444444444,
              "#bd3786"
             ],
             [
              0.5555555555555556,
              "#d8576b"
             ],
             [
              0.6666666666666666,
              "#ed7953"
             ],
             [
              0.7777777777777778,
              "#fb9f3a"
             ],
             [
              0.8888888888888888,
              "#fdca26"
             ],
             [
              1,
              "#f0f921"
             ]
            ],
            "type": "histogram2d"
           }
          ],
          "histogram2dcontour": [
           {
            "colorbar": {
             "outlinewidth": 0,
             "ticks": ""
            },
            "colorscale": [
             [
              0,
              "#0d0887"
             ],
             [
              0.1111111111111111,
              "#46039f"
             ],
             [
              0.2222222222222222,
              "#7201a8"
             ],
             [
              0.3333333333333333,
              "#9c179e"
             ],
             [
              0.4444444444444444,
              "#bd3786"
             ],
             [
              0.5555555555555556,
              "#d8576b"
             ],
             [
              0.6666666666666666,
              "#ed7953"
             ],
             [
              0.7777777777777778,
              "#fb9f3a"
             ],
             [
              0.8888888888888888,
              "#fdca26"
             ],
             [
              1,
              "#f0f921"
             ]
            ],
            "type": "histogram2dcontour"
           }
          ],
          "mesh3d": [
           {
            "colorbar": {
             "outlinewidth": 0,
             "ticks": ""
            },
            "type": "mesh3d"
           }
          ],
          "parcoords": [
           {
            "line": {
             "colorbar": {
              "outlinewidth": 0,
              "ticks": ""
             }
            },
            "type": "parcoords"
           }
          ],
          "pie": [
           {
            "automargin": true,
            "type": "pie"
           }
          ],
          "scatter": [
           {
            "marker": {
             "colorbar": {
              "outlinewidth": 0,
              "ticks": ""
             }
            },
            "type": "scatter"
           }
          ],
          "scatter3d": [
           {
            "line": {
             "colorbar": {
              "outlinewidth": 0,
              "ticks": ""
             }
            },
            "marker": {
             "colorbar": {
              "outlinewidth": 0,
              "ticks": ""
             }
            },
            "type": "scatter3d"
           }
          ],
          "scattercarpet": [
           {
            "marker": {
             "colorbar": {
              "outlinewidth": 0,
              "ticks": ""
             }
            },
            "type": "scattercarpet"
           }
          ],
          "scattergeo": [
           {
            "marker": {
             "colorbar": {
              "outlinewidth": 0,
              "ticks": ""
             }
            },
            "type": "scattergeo"
           }
          ],
          "scattergl": [
           {
            "marker": {
             "colorbar": {
              "outlinewidth": 0,
              "ticks": ""
             }
            },
            "type": "scattergl"
           }
          ],
          "scattermapbox": [
           {
            "marker": {
             "colorbar": {
              "outlinewidth": 0,
              "ticks": ""
             }
            },
            "type": "scattermapbox"
           }
          ],
          "scatterpolar": [
           {
            "marker": {
             "colorbar": {
              "outlinewidth": 0,
              "ticks": ""
             }
            },
            "type": "scatterpolar"
           }
          ],
          "scatterpolargl": [
           {
            "marker": {
             "colorbar": {
              "outlinewidth": 0,
              "ticks": ""
             }
            },
            "type": "scatterpolargl"
           }
          ],
          "scatterternary": [
           {
            "marker": {
             "colorbar": {
              "outlinewidth": 0,
              "ticks": ""
             }
            },
            "type": "scatterternary"
           }
          ],
          "surface": [
           {
            "colorbar": {
             "outlinewidth": 0,
             "ticks": ""
            },
            "colorscale": [
             [
              0,
              "#0d0887"
             ],
             [
              0.1111111111111111,
              "#46039f"
             ],
             [
              0.2222222222222222,
              "#7201a8"
             ],
             [
              0.3333333333333333,
              "#9c179e"
             ],
             [
              0.4444444444444444,
              "#bd3786"
             ],
             [
              0.5555555555555556,
              "#d8576b"
             ],
             [
              0.6666666666666666,
              "#ed7953"
             ],
             [
              0.7777777777777778,
              "#fb9f3a"
             ],
             [
              0.8888888888888888,
              "#fdca26"
             ],
             [
              1,
              "#f0f921"
             ]
            ],
            "type": "surface"
           }
          ],
          "table": [
           {
            "cells": {
             "fill": {
              "color": "#EBF0F8"
             },
             "line": {
              "color": "white"
             }
            },
            "header": {
             "fill": {
              "color": "#C8D4E3"
             },
             "line": {
              "color": "white"
             }
            },
            "type": "table"
           }
          ]
         },
         "layout": {
          "annotationdefaults": {
           "arrowcolor": "#2a3f5f",
           "arrowhead": 0,
           "arrowwidth": 1
          },
          "autotypenumbers": "strict",
          "coloraxis": {
           "colorbar": {
            "outlinewidth": 0,
            "ticks": ""
           }
          },
          "colorscale": {
           "diverging": [
            [
             0,
             "#8e0152"
            ],
            [
             0.1,
             "#c51b7d"
            ],
            [
             0.2,
             "#de77ae"
            ],
            [
             0.3,
             "#f1b6da"
            ],
            [
             0.4,
             "#fde0ef"
            ],
            [
             0.5,
             "#f7f7f7"
            ],
            [
             0.6,
             "#e6f5d0"
            ],
            [
             0.7,
             "#b8e186"
            ],
            [
             0.8,
             "#7fbc41"
            ],
            [
             0.9,
             "#4d9221"
            ],
            [
             1,
             "#276419"
            ]
           ],
           "sequential": [
            [
             0,
             "#0d0887"
            ],
            [
             0.1111111111111111,
             "#46039f"
            ],
            [
             0.2222222222222222,
             "#7201a8"
            ],
            [
             0.3333333333333333,
             "#9c179e"
            ],
            [
             0.4444444444444444,
             "#bd3786"
            ],
            [
             0.5555555555555556,
             "#d8576b"
            ],
            [
             0.6666666666666666,
             "#ed7953"
            ],
            [
             0.7777777777777778,
             "#fb9f3a"
            ],
            [
             0.8888888888888888,
             "#fdca26"
            ],
            [
             1,
             "#f0f921"
            ]
           ],
           "sequentialminus": [
            [
             0,
             "#0d0887"
            ],
            [
             0.1111111111111111,
             "#46039f"
            ],
            [
             0.2222222222222222,
             "#7201a8"
            ],
            [
             0.3333333333333333,
             "#9c179e"
            ],
            [
             0.4444444444444444,
             "#bd3786"
            ],
            [
             0.5555555555555556,
             "#d8576b"
            ],
            [
             0.6666666666666666,
             "#ed7953"
            ],
            [
             0.7777777777777778,
             "#fb9f3a"
            ],
            [
             0.8888888888888888,
             "#fdca26"
            ],
            [
             1,
             "#f0f921"
            ]
           ]
          },
          "colorway": [
           "#636efa",
           "#EF553B",
           "#00cc96",
           "#ab63fa",
           "#FFA15A",
           "#19d3f3",
           "#FF6692",
           "#B6E880",
           "#FF97FF",
           "#FECB52"
          ],
          "font": {
           "color": "#2a3f5f"
          },
          "geo": {
           "bgcolor": "white",
           "lakecolor": "white",
           "landcolor": "#E5ECF6",
           "showlakes": true,
           "showland": true,
           "subunitcolor": "white"
          },
          "hoverlabel": {
           "align": "left"
          },
          "hovermode": "closest",
          "mapbox": {
           "style": "light"
          },
          "paper_bgcolor": "white",
          "plot_bgcolor": "#E5ECF6",
          "polar": {
           "angularaxis": {
            "gridcolor": "white",
            "linecolor": "white",
            "ticks": ""
           },
           "bgcolor": "#E5ECF6",
           "radialaxis": {
            "gridcolor": "white",
            "linecolor": "white",
            "ticks": ""
           }
          },
          "scene": {
           "xaxis": {
            "backgroundcolor": "#E5ECF6",
            "gridcolor": "white",
            "gridwidth": 2,
            "linecolor": "white",
            "showbackground": true,
            "ticks": "",
            "zerolinecolor": "white"
           },
           "yaxis": {
            "backgroundcolor": "#E5ECF6",
            "gridcolor": "white",
            "gridwidth": 2,
            "linecolor": "white",
            "showbackground": true,
            "ticks": "",
            "zerolinecolor": "white"
           },
           "zaxis": {
            "backgroundcolor": "#E5ECF6",
            "gridcolor": "white",
            "gridwidth": 2,
            "linecolor": "white",
            "showbackground": true,
            "ticks": "",
            "zerolinecolor": "white"
           }
          },
          "shapedefaults": {
           "line": {
            "color": "#2a3f5f"
           }
          },
          "ternary": {
           "aaxis": {
            "gridcolor": "white",
            "linecolor": "white",
            "ticks": ""
           },
           "baxis": {
            "gridcolor": "white",
            "linecolor": "white",
            "ticks": ""
           },
           "bgcolor": "#E5ECF6",
           "caxis": {
            "gridcolor": "white",
            "linecolor": "white",
            "ticks": ""
           }
          },
          "title": {
           "x": 0.05
          },
          "xaxis": {
           "automargin": true,
           "gridcolor": "white",
           "linecolor": "white",
           "ticks": "",
           "title": {
            "standoff": 15
           },
           "zerolinecolor": "white",
           "zerolinewidth": 2
          },
          "yaxis": {
           "automargin": true,
           "gridcolor": "white",
           "linecolor": "white",
           "ticks": "",
           "title": {
            "standoff": 15
           },
           "zerolinecolor": "white",
           "zerolinewidth": 2
          }
         }
        },
        "title": {
         "text": "Конверсия игрового приложения"
        },
        "xaxis": {
         "anchor": "y",
         "domain": [
          0,
          1
         ],
         "title": {
          "text": "number"
         }
        },
        "yaxis": {
         "anchor": "x",
         "domain": [
          0,
          1
         ],
         "title": {
          "text": "stage"
         }
        }
       }
      },
      "text/html": [
       "<div>                            <div id=\"716fe30d-1eed-449a-a7d5-4362d4a73c4c\" class=\"plotly-graph-div\" style=\"height:525px; width:100%;\"></div>            <script type=\"text/javascript\">                require([\"plotly\"], function(Plotly) {                    window.PLOTLYENV=window.PLOTLYENV || {};                                    if (document.getElementById(\"716fe30d-1eed-449a-a7d5-4362d4a73c4c\")) {                    Plotly.newPlot(                        \"716fe30d-1eed-449a-a7d5-4362d4a73c4c\",                        [{\"hovertemplate\":\"\\u0433\\u0440\\u0443\\u043f\\u043f\\u0430=gate_30<br>number=%{x}<br>stage=%{y}<br>percentage=%{text}<extra></extra>\",\"legendgroup\":\"gate_30\",\"marker\":{\"color\":\"#636efa\"},\"name\":\"gate_30\",\"orientation\":\"h\",\"showlegend\":true,\"text\":[\"49.563% \\u043f\\u043e\\u043b\\u044c\\u0437\\u043e\\u0432\\u0430\\u0442\\u0435\\u043b\\u0435\\u0439<br>100.0% \\u0433\\u0440\\u0443\\u043f\\u043f\\u044b\",\"47.415% \\u043f\\u043e\\u043b\\u044c\\u0437\\u043e\\u0432\\u0430\\u0442\\u0435\\u043b\\u0435\\u0439<br>95.667% \\u0433\\u0440\\u0443\\u043f\\u043f\\u044b\",\"22.213% \\u043f\\u043e\\u043b\\u044c\\u0437\\u043e\\u0432\\u0430\\u0442\\u0435\\u043b\\u0435\\u0439<br>44.819% \\u0433\\u0440\\u0443\\u043f\\u043f\\u044b\",\"9.427% \\u043f\\u043e\\u043b\\u044c\\u0437\\u043e\\u0432\\u0430\\u0442\\u0435\\u043b\\u0435\\u0439<br>19.02% \\u0433\\u0440\\u0443\\u043f\\u043f\\u044b\"],\"x\":[44700,42763,20034,8502],\"xaxis\":\"x\",\"y\":[\"\\u0417\\u0430\\u0433\\u0440\\u0443\\u0437\\u0438\\u043b\\u0438\",\"\\u0421\\u044b\\u0433\\u0440\\u0430\\u043b\\u0438 \\u043f\\u0435\\u0440\\u0432\\u044b\\u0439 \\u0440\\u0430\\u0443\\u043d\\u0434\",\"\\u0423\\u0434\\u0435\\u0440\\u0436\\u0430\\u043d\\u0438\\u0435 1-\\u0433\\u043e \\u0434\\u043d\\u044f\",\"\\u0423\\u0434\\u0435\\u0440\\u0436\\u0430\\u043d\\u0438\\u0435 7-\\u0433\\u043e \\u0434\\u043d\\u044f\"],\"yaxis\":\"y\",\"type\":\"funnel\"},{\"hovertemplate\":\"\\u0433\\u0440\\u0443\\u043f\\u043f\\u0430=gate_40<br>number=%{x}<br>stage=%{y}<br>percentage=%{text}<extra></extra>\",\"legendgroup\":\"gate_40\",\"marker\":{\"color\":\"#EF553B\"},\"name\":\"gate_40\",\"orientation\":\"h\",\"showlegend\":true,\"text\":[\"50.437% \\u043f\\u043e\\u043b\\u044c\\u0437\\u043e\\u0432\\u0430\\u0442\\u0435\\u043b\\u0435\\u0439<br>100.0% \\u0433\\u0440\\u0443\\u043f\\u043f\\u044b\",\"48.157% \\u043f\\u043e\\u043b\\u044c\\u0437\\u043e\\u0432\\u0430\\u0442\\u0435\\u043b\\u0435\\u0439<br>95.478% \\u0433\\u0440\\u0443\\u043f\\u043f\\u044b\",\"22.308% \\u043f\\u043e\\u043b\\u044c\\u0437\\u043e\\u0432\\u0430\\u0442\\u0435\\u043b\\u0435\\u0439<br>44.228% \\u0433\\u0440\\u0443\\u043f\\u043f\\u044b\",\"9.18% \\u043f\\u043e\\u043b\\u044c\\u0437\\u043e\\u0432\\u0430\\u0442\\u0435\\u043b\\u0435\\u0439<br>18.2% \\u0433\\u0440\\u0443\\u043f\\u043f\\u044b\"],\"x\":[45489,43432,20119,8279],\"xaxis\":\"x\",\"y\":[\"\\u0417\\u0430\\u0433\\u0440\\u0443\\u0437\\u0438\\u043b\\u0438\",\"\\u0421\\u044b\\u0433\\u0440\\u0430\\u043b\\u0438 \\u043f\\u0435\\u0440\\u0432\\u044b\\u0439 \\u0440\\u0430\\u0443\\u043d\\u0434\",\"\\u0423\\u0434\\u0435\\u0440\\u0436\\u0430\\u043d\\u0438\\u0435 1-\\u0433\\u043e \\u0434\\u043d\\u044f\",\"\\u0423\\u0434\\u0435\\u0440\\u0436\\u0430\\u043d\\u0438\\u0435 7-\\u0433\\u043e \\u0434\\u043d\\u044f\"],\"yaxis\":\"y\",\"type\":\"funnel\"}],                        {\"template\":{\"data\":{\"bar\":[{\"error_x\":{\"color\":\"#2a3f5f\"},\"error_y\":{\"color\":\"#2a3f5f\"},\"marker\":{\"line\":{\"color\":\"#E5ECF6\",\"width\":0.5},\"pattern\":{\"fillmode\":\"overlay\",\"size\":10,\"solidity\":0.2}},\"type\":\"bar\"}],\"barpolar\":[{\"marker\":{\"line\":{\"color\":\"#E5ECF6\",\"width\":0.5},\"pattern\":{\"fillmode\":\"overlay\",\"size\":10,\"solidity\":0.2}},\"type\":\"barpolar\"}],\"carpet\":[{\"aaxis\":{\"endlinecolor\":\"#2a3f5f\",\"gridcolor\":\"white\",\"linecolor\":\"white\",\"minorgridcolor\":\"white\",\"startlinecolor\":\"#2a3f5f\"},\"baxis\":{\"endlinecolor\":\"#2a3f5f\",\"gridcolor\":\"white\",\"linecolor\":\"white\",\"minorgridcolor\":\"white\",\"startlinecolor\":\"#2a3f5f\"},\"type\":\"carpet\"}],\"choropleth\":[{\"colorbar\":{\"outlinewidth\":0,\"ticks\":\"\"},\"type\":\"choropleth\"}],\"contour\":[{\"colorbar\":{\"outlinewidth\":0,\"ticks\":\"\"},\"colorscale\":[[0.0,\"#0d0887\"],[0.1111111111111111,\"#46039f\"],[0.2222222222222222,\"#7201a8\"],[0.3333333333333333,\"#9c179e\"],[0.4444444444444444,\"#bd3786\"],[0.5555555555555556,\"#d8576b\"],[0.6666666666666666,\"#ed7953\"],[0.7777777777777778,\"#fb9f3a\"],[0.8888888888888888,\"#fdca26\"],[1.0,\"#f0f921\"]],\"type\":\"contour\"}],\"contourcarpet\":[{\"colorbar\":{\"outlinewidth\":0,\"ticks\":\"\"},\"type\":\"contourcarpet\"}],\"heatmap\":[{\"colorbar\":{\"outlinewidth\":0,\"ticks\":\"\"},\"colorscale\":[[0.0,\"#0d0887\"],[0.1111111111111111,\"#46039f\"],[0.2222222222222222,\"#7201a8\"],[0.3333333333333333,\"#9c179e\"],[0.4444444444444444,\"#bd3786\"],[0.5555555555555556,\"#d8576b\"],[0.6666666666666666,\"#ed7953\"],[0.7777777777777778,\"#fb9f3a\"],[0.8888888888888888,\"#fdca26\"],[1.0,\"#f0f921\"]],\"type\":\"heatmap\"}],\"heatmapgl\":[{\"colorbar\":{\"outlinewidth\":0,\"ticks\":\"\"},\"colorscale\":[[0.0,\"#0d0887\"],[0.1111111111111111,\"#46039f\"],[0.2222222222222222,\"#7201a8\"],[0.3333333333333333,\"#9c179e\"],[0.4444444444444444,\"#bd3786\"],[0.5555555555555556,\"#d8576b\"],[0.6666666666666666,\"#ed7953\"],[0.7777777777777778,\"#fb9f3a\"],[0.8888888888888888,\"#fdca26\"],[1.0,\"#f0f921\"]],\"type\":\"heatmapgl\"}],\"histogram\":[{\"marker\":{\"pattern\":{\"fillmode\":\"overlay\",\"size\":10,\"solidity\":0.2}},\"type\":\"histogram\"}],\"histogram2d\":[{\"colorbar\":{\"outlinewidth\":0,\"ticks\":\"\"},\"colorscale\":[[0.0,\"#0d0887\"],[0.1111111111111111,\"#46039f\"],[0.2222222222222222,\"#7201a8\"],[0.3333333333333333,\"#9c179e\"],[0.4444444444444444,\"#bd3786\"],[0.5555555555555556,\"#d8576b\"],[0.6666666666666666,\"#ed7953\"],[0.7777777777777778,\"#fb9f3a\"],[0.8888888888888888,\"#fdca26\"],[1.0,\"#f0f921\"]],\"type\":\"histogram2d\"}],\"histogram2dcontour\":[{\"colorbar\":{\"outlinewidth\":0,\"ticks\":\"\"},\"colorscale\":[[0.0,\"#0d0887\"],[0.1111111111111111,\"#46039f\"],[0.2222222222222222,\"#7201a8\"],[0.3333333333333333,\"#9c179e\"],[0.4444444444444444,\"#bd3786\"],[0.5555555555555556,\"#d8576b\"],[0.6666666666666666,\"#ed7953\"],[0.7777777777777778,\"#fb9f3a\"],[0.8888888888888888,\"#fdca26\"],[1.0,\"#f0f921\"]],\"type\":\"histogram2dcontour\"}],\"mesh3d\":[{\"colorbar\":{\"outlinewidth\":0,\"ticks\":\"\"},\"type\":\"mesh3d\"}],\"parcoords\":[{\"line\":{\"colorbar\":{\"outlinewidth\":0,\"ticks\":\"\"}},\"type\":\"parcoords\"}],\"pie\":[{\"automargin\":true,\"type\":\"pie\"}],\"scatter\":[{\"marker\":{\"colorbar\":{\"outlinewidth\":0,\"ticks\":\"\"}},\"type\":\"scatter\"}],\"scatter3d\":[{\"line\":{\"colorbar\":{\"outlinewidth\":0,\"ticks\":\"\"}},\"marker\":{\"colorbar\":{\"outlinewidth\":0,\"ticks\":\"\"}},\"type\":\"scatter3d\"}],\"scattercarpet\":[{\"marker\":{\"colorbar\":{\"outlinewidth\":0,\"ticks\":\"\"}},\"type\":\"scattercarpet\"}],\"scattergeo\":[{\"marker\":{\"colorbar\":{\"outlinewidth\":0,\"ticks\":\"\"}},\"type\":\"scattergeo\"}],\"scattergl\":[{\"marker\":{\"colorbar\":{\"outlinewidth\":0,\"ticks\":\"\"}},\"type\":\"scattergl\"}],\"scattermapbox\":[{\"marker\":{\"colorbar\":{\"outlinewidth\":0,\"ticks\":\"\"}},\"type\":\"scattermapbox\"}],\"scatterpolar\":[{\"marker\":{\"colorbar\":{\"outlinewidth\":0,\"ticks\":\"\"}},\"type\":\"scatterpolar\"}],\"scatterpolargl\":[{\"marker\":{\"colorbar\":{\"outlinewidth\":0,\"ticks\":\"\"}},\"type\":\"scatterpolargl\"}],\"scatterternary\":[{\"marker\":{\"colorbar\":{\"outlinewidth\":0,\"ticks\":\"\"}},\"type\":\"scatterternary\"}],\"surface\":[{\"colorbar\":{\"outlinewidth\":0,\"ticks\":\"\"},\"colorscale\":[[0.0,\"#0d0887\"],[0.1111111111111111,\"#46039f\"],[0.2222222222222222,\"#7201a8\"],[0.3333333333333333,\"#9c179e\"],[0.4444444444444444,\"#bd3786\"],[0.5555555555555556,\"#d8576b\"],[0.6666666666666666,\"#ed7953\"],[0.7777777777777778,\"#fb9f3a\"],[0.8888888888888888,\"#fdca26\"],[1.0,\"#f0f921\"]],\"type\":\"surface\"}],\"table\":[{\"cells\":{\"fill\":{\"color\":\"#EBF0F8\"},\"line\":{\"color\":\"white\"}},\"header\":{\"fill\":{\"color\":\"#C8D4E3\"},\"line\":{\"color\":\"white\"}},\"type\":\"table\"}]},\"layout\":{\"annotationdefaults\":{\"arrowcolor\":\"#2a3f5f\",\"arrowhead\":0,\"arrowwidth\":1},\"autotypenumbers\":\"strict\",\"coloraxis\":{\"colorbar\":{\"outlinewidth\":0,\"ticks\":\"\"}},\"colorscale\":{\"diverging\":[[0,\"#8e0152\"],[0.1,\"#c51b7d\"],[0.2,\"#de77ae\"],[0.3,\"#f1b6da\"],[0.4,\"#fde0ef\"],[0.5,\"#f7f7f7\"],[0.6,\"#e6f5d0\"],[0.7,\"#b8e186\"],[0.8,\"#7fbc41\"],[0.9,\"#4d9221\"],[1,\"#276419\"]],\"sequential\":[[0.0,\"#0d0887\"],[0.1111111111111111,\"#46039f\"],[0.2222222222222222,\"#7201a8\"],[0.3333333333333333,\"#9c179e\"],[0.4444444444444444,\"#bd3786\"],[0.5555555555555556,\"#d8576b\"],[0.6666666666666666,\"#ed7953\"],[0.7777777777777778,\"#fb9f3a\"],[0.8888888888888888,\"#fdca26\"],[1.0,\"#f0f921\"]],\"sequentialminus\":[[0.0,\"#0d0887\"],[0.1111111111111111,\"#46039f\"],[0.2222222222222222,\"#7201a8\"],[0.3333333333333333,\"#9c179e\"],[0.4444444444444444,\"#bd3786\"],[0.5555555555555556,\"#d8576b\"],[0.6666666666666666,\"#ed7953\"],[0.7777777777777778,\"#fb9f3a\"],[0.8888888888888888,\"#fdca26\"],[1.0,\"#f0f921\"]]},\"colorway\":[\"#636efa\",\"#EF553B\",\"#00cc96\",\"#ab63fa\",\"#FFA15A\",\"#19d3f3\",\"#FF6692\",\"#B6E880\",\"#FF97FF\",\"#FECB52\"],\"font\":{\"color\":\"#2a3f5f\"},\"geo\":{\"bgcolor\":\"white\",\"lakecolor\":\"white\",\"landcolor\":\"#E5ECF6\",\"showlakes\":true,\"showland\":true,\"subunitcolor\":\"white\"},\"hoverlabel\":{\"align\":\"left\"},\"hovermode\":\"closest\",\"mapbox\":{\"style\":\"light\"},\"paper_bgcolor\":\"white\",\"plot_bgcolor\":\"#E5ECF6\",\"polar\":{\"angularaxis\":{\"gridcolor\":\"white\",\"linecolor\":\"white\",\"ticks\":\"\"},\"bgcolor\":\"#E5ECF6\",\"radialaxis\":{\"gridcolor\":\"white\",\"linecolor\":\"white\",\"ticks\":\"\"}},\"scene\":{\"xaxis\":{\"backgroundcolor\":\"#E5ECF6\",\"gridcolor\":\"white\",\"gridwidth\":2,\"linecolor\":\"white\",\"showbackground\":true,\"ticks\":\"\",\"zerolinecolor\":\"white\"},\"yaxis\":{\"backgroundcolor\":\"#E5ECF6\",\"gridcolor\":\"white\",\"gridwidth\":2,\"linecolor\":\"white\",\"showbackground\":true,\"ticks\":\"\",\"zerolinecolor\":\"white\"},\"zaxis\":{\"backgroundcolor\":\"#E5ECF6\",\"gridcolor\":\"white\",\"gridwidth\":2,\"linecolor\":\"white\",\"showbackground\":true,\"ticks\":\"\",\"zerolinecolor\":\"white\"}},\"shapedefaults\":{\"line\":{\"color\":\"#2a3f5f\"}},\"ternary\":{\"aaxis\":{\"gridcolor\":\"white\",\"linecolor\":\"white\",\"ticks\":\"\"},\"baxis\":{\"gridcolor\":\"white\",\"linecolor\":\"white\",\"ticks\":\"\"},\"bgcolor\":\"#E5ECF6\",\"caxis\":{\"gridcolor\":\"white\",\"linecolor\":\"white\",\"ticks\":\"\"}},\"title\":{\"x\":0.05},\"xaxis\":{\"automargin\":true,\"gridcolor\":\"white\",\"linecolor\":\"white\",\"ticks\":\"\",\"title\":{\"standoff\":15},\"zerolinecolor\":\"white\",\"zerolinewidth\":2},\"yaxis\":{\"automargin\":true,\"gridcolor\":\"white\",\"linecolor\":\"white\",\"ticks\":\"\",\"title\":{\"standoff\":15},\"zerolinecolor\":\"white\",\"zerolinewidth\":2}}},\"xaxis\":{\"anchor\":\"y\",\"domain\":[0.0,1.0],\"title\":{\"text\":\"number\"}},\"yaxis\":{\"anchor\":\"x\",\"domain\":[0.0,1.0],\"title\":{\"text\":\"stage\"}},\"legend\":{\"title\":{\"text\":\"\\u0433\\u0440\\u0443\\u043f\\u043f\\u0430\"},\"tracegroupgap\":0},\"title\":{\"text\":\"\\u041a\\u043e\\u043d\\u0432\\u0435\\u0440\\u0441\\u0438\\u044f \\u0438\\u0433\\u0440\\u043e\\u0432\\u043e\\u0433\\u043e \\u043f\\u0440\\u0438\\u043b\\u043e\\u0436\\u0435\\u043d\\u0438\\u044f\"}},                        {\"responsive\": true}                    ).then(function(){\n",
       "                            \n",
       "var gd = document.getElementById('716fe30d-1eed-449a-a7d5-4362d4a73c4c');\n",
       "var x = new MutationObserver(function (mutations, observer) {{\n",
       "        var display = window.getComputedStyle(gd).display;\n",
       "        if (!display || display === 'none') {{\n",
       "            console.log([gd, 'removed!']);\n",
       "            Plotly.purge(gd);\n",
       "            observer.disconnect();\n",
       "        }}\n",
       "}});\n",
       "\n",
       "// Listen for the removal of the full notebook cells\n",
       "var notebookContainer = gd.closest('#notebook-container');\n",
       "if (notebookContainer) {{\n",
       "    x.observe(notebookContainer, {childList: true});\n",
       "}}\n",
       "\n",
       "// Listen for the clearing of the current output cell\n",
       "var outputEl = gd.closest('.output');\n",
       "if (outputEl) {{\n",
       "    x.observe(outputEl, {childList: true});\n",
       "}}\n",
       "\n",
       "                        })                };                });            </script>        </div>"
      ]
     },
     "metadata": {},
     "output_type": "display_data"
    }
   ],
   "source": [
    "amount_of_users = df.userid.nunique()\n",
    "\n",
    "gate_30_data = df[df[\"version\"]==\"gate_30\"]\n",
    "gate_40_data = df[df[\"version\"]==\"gate_40\"]\n",
    "stages = [\"Загрузили\", \"Сыграли первый раунд\", \"Удержание 1-го дня\", \"Удержание 7-го дня\"]\n",
    "\n",
    "values_30 = [gate_30_data.userid.nunique(), gate_30_data[gate_30_data[\"sum_gamerounds\"]>0].userid.nunique(), \n",
    "             gate_30_data.retention_1.sum(), gate_30_data.retention_7.sum()] \n",
    "\n",
    "percentage_30 = [str(round(values_30[i]/amount_of_users*100, 3)) + \"% пользователей\" + \"<br>\"\n",
    "                 + str(round(values_30[i]/gate_30_data.userid.nunique()*100, 3)) + \"% группы\" for i in range(len(values_30))]\n",
    "\n",
    "values_30 = pd.DataFrame(dict(number=values_30, stage=stages, percentage=percentage_30))\n",
    "values_30[\"группа\"] = \"gate_30\"\n",
    "\n",
    "values_40 = [gate_40_data.userid.nunique(), gate_40_data[gate_40_data[\"sum_gamerounds\"]>0].userid.nunique(), \n",
    "             gate_40_data.retention_1.sum(), gate_40_data.retention_7.sum()] \n",
    "\n",
    "percentage_40 = [str(round(values_40[i]/amount_of_users*100, 3)) + \"% пользователей\" + \"<br>\"\n",
    "                 + str(round(values_40[i]/gate_40_data.userid.nunique()*100, 3)) + \"% группы\" for i in range(len(values_40))]\n",
    "\n",
    "values_40 = pd.DataFrame(dict(number=values_40, stage=stages, percentage=percentage_40))\n",
    "values_40[\"группа\"] = \"gate_40\"\n",
    "\n",
    "funnel_data = pd.concat([values_30, values_40], axis=0)\n",
    "\n",
    "fig = px.funnel(funnel_data, x='number', y='stage', color='группа', text=\"percentage\", title=\"Конверсия игрового приложения\")\n",
    "fig.show()"
   ]
  },
  {
   "cell_type": "markdown",
   "id": "edc90901",
   "metadata": {},
   "source": [
    "Можно отметить два интересных факта:\n",
    "\n",
    "* Разница в удержании 1-го дня в двух группах составляет почти 0.6 %\n",
    "* Разница в удержании 7-го дня в двух группах составляет 0.82 %"
   ]
  },
  {
   "cell_type": "markdown",
   "id": "f6ea4d6f",
   "metadata": {},
   "source": [
    "# 3. Удержание пользователей первого дня (1-day retention) "
   ]
  },
  {
   "cell_type": "markdown",
   "id": "147e52f5",
   "metadata": {},
   "source": [
    "Посмотрим как выглядит удержание 1 дня по группам."
   ]
  },
  {
   "cell_type": "code",
   "execution_count": 23,
   "id": "350718f9",
   "metadata": {},
   "outputs": [
    {
     "data": {
      "text/plain": [
       "version\n",
       "gate_30    0.448188\n",
       "gate_40    0.442283\n",
       "Name: retention_1, dtype: float64"
      ]
     },
     "execution_count": 23,
     "metadata": {},
     "output_type": "execute_result"
    }
   ],
   "source": [
    "df.groupby('version').retention_1.mean()"
   ]
  },
  {
   "cell_type": "markdown",
   "id": "56ebca04",
   "metadata": {},
   "source": [
    "Наблюдается небольшое ухудшение в удержании первого дня, если ворота расположены на 40-м уровне (44.2%) в сравнении с контрольной группой, где ворота остались на 30-м уровне (44.8%). Разница около 0.6% кажется небольшой, но может оказаться существенной, если пользователей много. Давайте проверим значимость этого эффекта. Будем использовать односторонний тест о равенстве долей. \n",
    "\n",
    "$$\n",
    "\\begin{aligned}\n",
    "&H_0: \\hspace{2mm} p_{40} = p_{30} \\\\\n",
    "&H_1: \\hspace{2mm} p_{40} < p_{30} \n",
    "\\end{aligned}\n",
    "$$\n"
   ]
  },
  {
   "cell_type": "code",
   "execution_count": 24,
   "id": "334beebe",
   "metadata": {
    "scrolled": true
   },
   "outputs": [
    {
     "data": {
      "text/html": [
       "<div>\n",
       "<style scoped>\n",
       "    .dataframe tbody tr th:only-of-type {\n",
       "        vertical-align: middle;\n",
       "    }\n",
       "\n",
       "    .dataframe tbody tr th {\n",
       "        vertical-align: top;\n",
       "    }\n",
       "\n",
       "    .dataframe thead th {\n",
       "        text-align: right;\n",
       "    }\n",
       "</style>\n",
       "<table border=\"1\" class=\"dataframe\">\n",
       "  <thead>\n",
       "    <tr style=\"text-align: right;\">\n",
       "      <th></th>\n",
       "      <th>sum</th>\n",
       "      <th>count</th>\n",
       "      <th>mean</th>\n",
       "    </tr>\n",
       "    <tr>\n",
       "      <th>version</th>\n",
       "      <th></th>\n",
       "      <th></th>\n",
       "      <th></th>\n",
       "    </tr>\n",
       "  </thead>\n",
       "  <tbody>\n",
       "    <tr>\n",
       "      <th>gate_30</th>\n",
       "      <td>20034</td>\n",
       "      <td>44700</td>\n",
       "      <td>0.448188</td>\n",
       "    </tr>\n",
       "    <tr>\n",
       "      <th>gate_40</th>\n",
       "      <td>20119</td>\n",
       "      <td>45489</td>\n",
       "      <td>0.442283</td>\n",
       "    </tr>\n",
       "  </tbody>\n",
       "</table>\n",
       "</div>"
      ],
      "text/plain": [
       "           sum  count      mean\n",
       "version                        \n",
       "gate_30  20034  44700  0.448188\n",
       "gate_40  20119  45489  0.442283"
      ]
     },
     "execution_count": 24,
     "metadata": {},
     "output_type": "execute_result"
    }
   ],
   "source": [
    "from statsmodels.stats.proportion import proportions_ztest\n",
    "\n",
    "alpha = 0.05                    # уровень значимости = 5%\n",
    "\n",
    "df_agg = df.groupby('version').retention_1.agg(['sum', 'count', 'mean'])\n",
    "df_agg"
   ]
  },
  {
   "cell_type": "code",
   "execution_count": 25,
   "id": "cb9c5c73",
   "metadata": {},
   "outputs": [
    {
     "name": "stdout",
     "output_type": "stream",
     "text": [
      "Наблюдаемое значение z-статистики: 1.78\n",
      "P-value: 0.0372\n"
     ]
    }
   ],
   "source": [
    "n_obs = df_agg['count'].values  # размеры выборок\n",
    "m_obs = df_agg['sum'].values    # число успехов\n",
    "p_obs = df_agg['mean'].values   # доли\n",
    "\n",
    "z_obs, p_val =  proportions_ztest(m_obs, \n",
    "                                  n_obs, \n",
    "                                  value=0, \n",
    "                                  alternative='larger')\n",
    "\n",
    "print(f\"Наблюдаемое значение z-статистики: {z_obs:.3}\") \n",
    "print(f\"P-value: {p_val:.3}\") "
   ]
  },
  {
   "cell_type": "markdown",
   "id": "583977d8",
   "metadata": {},
   "source": [
    "<strong>Гипотеза о равенсве долей отвергается на $5\\%$ уровне значимости. Попробуем реализовать тест вручную.</strong>"
   ]
  },
  {
   "cell_type": "code",
   "execution_count": 26,
   "id": "e2a17280",
   "metadata": {},
   "outputs": [
    {
     "name": "stdout",
     "output_type": "stream",
     "text": [
      "1.78 не попадает в (-1.64 , 1.64) => Нулевая гипотеза отвергается\n"
     ]
    }
   ],
   "source": [
    "alpha = 0.05                                       # уровень значимости = 5%\n",
    "n1,n2 = n_obs[0], n_obs[1]                         # размеры выборок\n",
    "m1,m2 = m_obs[0], m_obs[1]                         # число успехов\n",
    "\n",
    "p1, p2 = p_obs[0], p_obs[1]                        # точеные оценки долей \n",
    "diff = p1 - p2                                     # разность долей\n",
    "\n",
    "P = (m1 + m2)/(n1 + n2)          \n",
    "diff_std = np.sqrt(P*(1 - P)*(1/n1 + 1/n2))        # стандартное отклонение разности\n",
    "                                    \n",
    "z_obs = diff/diff_std                              # наблюдаемое значение статистики \n",
    "z_crit = stats.norm.ppf(1 - alpha)                 # критическое значение статистики\n",
    "\n",
    "print(f'{z_obs:.3} не попадает в ({-z_crit:.3} , {z_crit:.3}) => Нулевая гипотеза отвергается')"
   ]
  },
  {
   "cell_type": "markdown",
   "id": "140189cd",
   "metadata": {},
   "source": [
    "Результаты совпали. \n",
    "Для наглядности отобразим на графике наблюдаемое и критическое значение статистики."
   ]
  },
  {
   "cell_type": "code",
   "execution_count": 27,
   "id": "0a8bcab8",
   "metadata": {},
   "outputs": [
    {
     "data": {
      "image/png": "[encoded data removed]",
      "text/plain": [
       "<Figure size 720x360 with 1 Axes>"
      ]
     },
     "metadata": {
      "needs_background": "light"
     },
     "output_type": "display_data"
    }
   ],
   "source": [
    "plt.figure(figsize = (10, 5))\n",
    "x = np.linspace(-3, 3)\n",
    "pdf = stats.norm().pdf(x)\n",
    "\n",
    "plt.plot(x, pdf, color=\"black\")\n",
    "plt.ylabel(\"$f(x)$\", fontsize=16)\n",
    "plt.xlabel(\"$x$\", fontsize=16)\n",
    "y_max = plt.ylim()[1]\n",
    "\n",
    "statistics = ['z_crit', 'z_obs']\n",
    "params = dict(zip(statistics, [(z_crit, 0.05, z_crit, 3, 'b'),\n",
    "                                       (z_obs, 0.05, z_obs, 3, 'r')]))\n",
    "\n",
    "for i in range(len(statistics)):\n",
    "    statistic, text_margin, left_bound, right_bound, color = params[statistics[i]]\n",
    "        \n",
    "    plt.axvline(statistic, color=color, linestyle=\"--\", lw=2)\n",
    "    h = 0.8 if statistics[i].split('_')[-1] == 'crit' else 0.6\n",
    "    plt.text(statistic + text_margin, \n",
    "                h*y_max, round(statistic, 2), color=color, fontsize=16)\n",
    "        \n",
    "    xq = np.linspace(left_bound, right_bound)\n",
    "    yq = stats.norm().pdf(xq)\n",
    "    plt.fill_between(xq, 0, yq, color=color, alpha=0.2)"
   ]
  },
  {
   "cell_type": "markdown",
   "id": "17eec4b9",
   "metadata": {},
   "source": [
    "Видно, что z-значение совсем немного превосходит пороговое."
   ]
  },
  {
   "cell_type": "markdown",
   "id": "1e7c9030",
   "metadata": {},
   "source": [
    "Посмотрим на оценку мощности этого эксперимента.\n",
    "\n",
    "Статистическая мощность - это вероятность отклонения основной (или нулевой) гипотезы в случае, когда конкурирующая (или альтернативная) гипотеза верна. Чем выше мощность статистического теста, тем меньше вероятность совершить ошибку второго рода. "
   ]
  },
  {
   "cell_type": "code",
   "execution_count": 28,
   "id": "84cbebae",
   "metadata": {},
   "outputs": [
    {
     "data": {
      "text/plain": [
       "0.011882103556501381"
      ]
     },
     "execution_count": 28,
     "metadata": {},
     "output_type": "execute_result"
    }
   ],
   "source": [
    "# стандартизированный размер эффекта\n",
    "# p1, p2 - точеные оценки долей \n",
    "# n1, n2 - размеры выборок\n",
    "effect = (p1 - p2) / np.sqrt((n1* (p1*(1-p1)) + n2 * (p2*(1-p2))) / (n1 + n2))\n",
    "effect"
   ]
  },
  {
   "cell_type": "code",
   "execution_count": 29,
   "id": "1f33e977",
   "metadata": {},
   "outputs": [
    {
     "data": {
      "text/plain": [
       "1.0176510067114093"
      ]
     },
     "execution_count": 29,
     "metadata": {},
     "output_type": "execute_result"
    }
   ],
   "source": [
    "ratio = n_obs[1]/n_obs[0] # отношение размеров выборок\n",
    "ratio"
   ]
  },
  {
   "cell_type": "code",
   "execution_count": 30,
   "id": "5aff46ab",
   "metadata": {},
   "outputs": [
    {
     "data": {
      "text/plain": [
       "0.8131003647824975"
      ]
     },
     "execution_count": 30,
     "metadata": {},
     "output_type": "execute_result"
    }
   ],
   "source": [
    "from statsmodels.stats.power import zt_ind_solve_power\n",
    "\n",
    "zt_ind_solve_power(effect_size=effect, \n",
    "                   nobs1=sum(n_obs), \n",
    "                   alpha=0.05, \n",
    "                   power=None, \n",
    "                   ratio=ratio,\n",
    "                   alternative='larger')"
   ]
  },
  {
   "cell_type": "markdown",
   "id": "115ae136",
   "metadata": {},
   "source": [
    "В нашем случае мощность теста приблизительно равно 81%, что является стандартной величиной, которую обычно закладывают в АБ-тесты."
   ]
  },
  {
   "cell_type": "markdown",
   "id": "069f9ad9",
   "metadata": {},
   "source": [
    "<strong>Мы выяснили, что 1-day retention в группе с воротами на 30-ом уровне значимо больше данного показателя в группе на 40-ом уровне.\n",
    "Однако есть вероятность, что после одного дня игры часть пользователей не достигла 30-го или даже 40-го уровня, поэтому расположение первых ворот могло оказать лишь незначительное влияние на поведение пользователей после первого дня.</strong>"
   ]
  },
  {
   "cell_type": "markdown",
   "id": "ff63b7ac",
   "metadata": {},
   "source": [
    "# 4. Удержание седьмого дня (7-day retention) \n",
    "\n",
    "Cпустя неделю после установки, уже больше игроков пройдут 40 уровней, поэтому имеет смысл посмотреть на удержание седьмого дня. "
   ]
  },
  {
   "cell_type": "code",
   "execution_count": 31,
   "id": "bc0be744",
   "metadata": {},
   "outputs": [
    {
     "data": {
      "text/plain": [
       "version\n",
       "gate_30    0.190201\n",
       "gate_40    0.182000\n",
       "Name: retention_7, dtype: float64"
      ]
     },
     "execution_count": 31,
     "metadata": {},
     "output_type": "execute_result"
    }
   ],
   "source": [
    "df.groupby('version').retention_7.mean()"
   ]
  },
  {
   "cell_type": "markdown",
   "id": "de096e95",
   "metadata": {},
   "source": [
    "Как и с 1-day retention, мы видим, что 7-day retention немного ниже (18.2%), когда ворота находятся на 40-м уровне, чем на 30-м (19.0%). Эта разница уже больше, чем для удержания первого дня, возможно игроки имели больше времени на то, чтобы столкнуться с первыми воротами. Мы также видим, что удержание 7-го дня в целом ниже, чем удержание 1-го - спустя неделю намного меньше людей всё ещё заходит в игру. По-прежнему возикает вопрос: а значима ли эта разница. Для проверки также используем односторонний тест о равенстве долей."
   ]
  },
  {
   "cell_type": "code",
   "execution_count": 32,
   "id": "9d6c23a0",
   "metadata": {},
   "outputs": [
    {
     "data": {
      "text/html": [
       "<div>\n",
       "<style scoped>\n",
       "    .dataframe tbody tr th:only-of-type {\n",
       "        vertical-align: middle;\n",
       "    }\n",
       "\n",
       "    .dataframe tbody tr th {\n",
       "        vertical-align: top;\n",
       "    }\n",
       "\n",
       "    .dataframe thead th {\n",
       "        text-align: right;\n",
       "    }\n",
       "</style>\n",
       "<table border=\"1\" class=\"dataframe\">\n",
       "  <thead>\n",
       "    <tr style=\"text-align: right;\">\n",
       "      <th></th>\n",
       "      <th>sum</th>\n",
       "      <th>count</th>\n",
       "      <th>mean</th>\n",
       "    </tr>\n",
       "    <tr>\n",
       "      <th>version</th>\n",
       "      <th></th>\n",
       "      <th></th>\n",
       "      <th></th>\n",
       "    </tr>\n",
       "  </thead>\n",
       "  <tbody>\n",
       "    <tr>\n",
       "      <th>gate_30</th>\n",
       "      <td>8502</td>\n",
       "      <td>44700</td>\n",
       "      <td>0.190201</td>\n",
       "    </tr>\n",
       "    <tr>\n",
       "      <th>gate_40</th>\n",
       "      <td>8279</td>\n",
       "      <td>45489</td>\n",
       "      <td>0.182000</td>\n",
       "    </tr>\n",
       "  </tbody>\n",
       "</table>\n",
       "</div>"
      ],
      "text/plain": [
       "          sum  count      mean\n",
       "version                       \n",
       "gate_30  8502  44700  0.190201\n",
       "gate_40  8279  45489  0.182000"
      ]
     },
     "execution_count": 32,
     "metadata": {},
     "output_type": "execute_result"
    }
   ],
   "source": [
    "from statsmodels.stats.proportion import proportions_ztest\n",
    "\n",
    "alpha = 0.05                    # уровень значимости = 5%\n",
    "\n",
    "df_agg = df.groupby('version').retention_7.agg(['sum', 'count', 'mean'])\n",
    "df_agg"
   ]
  },
  {
   "cell_type": "code",
   "execution_count": 33,
   "id": "eae86f1b",
   "metadata": {},
   "outputs": [
    {
     "name": "stdout",
     "output_type": "stream",
     "text": [
      "Наблюдаемое значение статистики: 3.16\n",
      "P-значение: 0.000777\n"
     ]
    }
   ],
   "source": [
    "n_obs = df_agg['count'].values  # размеры выборок\n",
    "m_obs = df_agg['sum'].values    # число успехов\n",
    "p_obs = df_agg['mean'].values   # доли\n",
    "\n",
    "z_obs, p_val =  proportions_ztest(m_obs, n_obs, value=0, alternative='larger')\n",
    "\n",
    "print(f\"Наблюдаемое значение статистики: {z_obs:.3}\") \n",
    "print(f\"P-значение: {p_val:.3}\") "
   ]
  },
  {
   "cell_type": "markdown",
   "id": "3b233798",
   "metadata": {},
   "source": [
    "<strong>Гипотеза о равенстве долей отвергается на $5\\%$ уровне значимости. Отметим, что величина p-value в этом тесте сильно меньше.</strong>"
   ]
  },
  {
   "cell_type": "code",
   "execution_count": 34,
   "id": "be42a579",
   "metadata": {},
   "outputs": [
    {
     "name": "stdout",
     "output_type": "stream",
     "text": [
      "3.16 не попадает в (-1.64 , 1.64) => Нулевая гипотеза отвергается\n"
     ]
    }
   ],
   "source": [
    "alpha = 0.05                                       # уровень значимости = 5%\n",
    "n1,n2 = n_obs[0], n_obs[1]                         # размеры выборок\n",
    "m1,m2 = m_obs[0], m_obs[1]                         # число успехов\n",
    "\n",
    "p1, p2 = p_obs[0], p_obs[1]                        # точеные оценки долей \n",
    "diff = p1 - p2                                     # разность долей\n",
    "\n",
    "P = (m1 + m2)/(n1 + n2)          \n",
    "diff_std = np.sqrt(P*(1 - P)*(1/n1 + 1/n2))        # стандартное отклонение разности\n",
    "                                    \n",
    "z_obs = diff/diff_std                              # наблюдаемое значение статистики \n",
    "z_crit = stats.norm.ppf(1 - alpha)                 # критическое значение статистики\n",
    "\n",
    "print(f'{z_obs:.3} не попадает в ({-z_crit:.3} , {z_crit:.3}) => Нулевая гипотеза отвергается')"
   ]
  },
  {
   "cell_type": "markdown",
   "id": "2818097b",
   "metadata": {},
   "source": [
    "Отобразим на графике наблюдаемое и критическое значение статистики."
   ]
  },
  {
   "cell_type": "code",
   "execution_count": 35,
   "id": "6c970d87",
   "metadata": {},
   "outputs": [
    {
     "data": {
      "image/png": "[encoded data removed]",
      "text/plain": [
       "<Figure size 720x360 with 1 Axes>"
      ]
     },
     "metadata": {
      "needs_background": "light"
     },
     "output_type": "display_data"
    }
   ],
   "source": [
    "plt.figure(figsize = (10, 5))\n",
    "x = np.linspace(-4, 4)\n",
    "pdf = stats.norm().pdf(x)\n",
    "\n",
    "plt.plot(x, pdf, color=\"black\")\n",
    "plt.ylabel(\"$f(x)$\", fontsize=16)\n",
    "plt.xlabel(\"$x$\", fontsize=16)\n",
    "y_max = plt.ylim()[1]\n",
    "\n",
    "statistics = ['z_crit', 'z_obs']\n",
    "params = dict(zip(statistics, [(z_crit, 0.05, z_crit, 4, 'b'),\n",
    "                                       (z_obs, 0.05, z_obs, 4, 'r')]))\n",
    "\n",
    "for i in range(len(statistics)):\n",
    "    statistic, text_margin, left_bound, right_bound, color = params[statistics[i]]\n",
    "        \n",
    "    plt.axvline(statistic, color=color, linestyle=\"--\", lw=2)\n",
    "    h = 0.8 if statistics[i].split('_')[-1] == 'crit' else 0.6\n",
    "    plt.text(statistic + text_margin, \n",
    "                h*y_max, round(statistic, 2), color=color, fontsize=16)\n",
    "        \n",
    "    xq = np.linspace(left_bound, right_bound)\n",
    "    yq = stats.norm().pdf(xq)\n",
    "    plt.fill_between(xq, 0, yq, color=color, alpha=0.2)"
   ]
  },
  {
   "cell_type": "markdown",
   "id": "fc89f74f",
   "metadata": {},
   "source": [
    "<strong>Видим, что разница сильно значима. Перестановка ворот на 40-й уровень снизит 7-дневное удержание на 0.82%.</strong> "
   ]
  },
  {
   "cell_type": "markdown",
   "id": "c3d8ae96",
   "metadata": {},
   "source": [
    "# Результаты АБ-тестирования"
   ]
  },
  {
   "cell_type": "markdown",
   "id": "c1c04587",
   "metadata": {},
   "source": [
    "Мы выяснили, что превышение удержания 1-го и 7-го дня в группе с воротами на 30-ом уровне по сравнению с группой с воротами на 40-ом уровне статистически значимо. Значит, если мы хотим поддерживать удержание клиентов на высоком уровне, нам <strong>не следует</strong> сдвигать ворота с 30-го на 40-й уровень.\n",
    "\n",
    "Но почему удержание пользователей выше, когда ворота расположены раньше? Возможно так проявляется эффект привыкания, пользователь получает меньше удовольствия от деятельности, когда она продолжается длительное время. Заставляя игроков сделать паузу, когда они достигают 30-го уровня, мы продлеваем им удовольствие от игры, в результате чего они не теряют интерес. И напротив, сдвигая ворота к 40-му уровню мы даем игрокам возможность наиграться и просто заскучать."
   ]
  },
  {
   "cell_type": "code",
   "execution_count": null,
   "id": "d853c01e",
   "metadata": {},
   "outputs": [],
   "source": []
  }
 ],
 "metadata": {
  "kernelspec": {
   "display_name": "Python 3 (ipykernel)",
   "language": "python",
   "name": "python3"
  },
  "language_info": {
   "codemirror_mode": {
    "name": "ipython",
    "version": 3
   },
   "file_extension": ".py",
   "mimetype": "text/x-python",
   "name": "python",
   "nbconvert_exporter": "python",
   "pygments_lexer": "ipython3",
   "version": "3.9.12"
  }
 },
 "nbformat": 4,
 "nbformat_minor": 5
}
